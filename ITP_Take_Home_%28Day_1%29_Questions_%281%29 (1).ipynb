{
 "cells": [
  {
   "cell_type": "markdown",
   "metadata": {
    "id": "JT0CoGOOE1ZX"
   },
   "source": [
    "<table align=\"center\" width=100%>\n",
    "    <tr>\n",
    "        <td width=\"15%\">\n",
    "            <img src=\"GL-2.png\">\n",
    "        </td>\n",
    "        <td>\n",
    "            <div align=\"center\">\n",
    "                <font color=\"#21618C\" size=8px>\n",
    "                    <b> Take-Home <br>(Day 1)\n",
    "                    </b>\n",
    "                </font>\n",
    "            </div>\n",
    "        </td>\n",
    "    </tr>\n",
    "</table>"
   ]
  },
  {
   "cell_type": "markdown",
   "metadata": {
    "id": "UFiu4MNkE1Za"
   },
   "source": [
    "### Let's begin with some hands-on practice exercises"
   ]
  },
  {
   "cell_type": "markdown",
   "metadata": {
    "id": "4FhU3I_eE1Zb"
   },
   "source": [
    "<table align=\"left\">\n",
    "    <tr>\n",
    "        <td width=\"6%\">\n",
    "            <img src=\"question_icon.png\">\n",
    "        </td>\n",
    "        <td>\n",
    "            <div align=\"left\", style=\"font-size:120%\">\n",
    "                <font color=\"#21618C\">\n",
    "                    <b>1. Write a program to convert the value of 'pi' to integer</b>\n",
    "                </font>\n",
    "            </div>\n",
    "        </td>\n",
    "    </tr>\n",
    "</table>\n"
   ]
  },
  {
   "cell_type": "code",
   "execution_count": 1,
   "metadata": {
    "id": "eArI42NXE1Zb"
   },
   "outputs": [
    {
     "name": "stdout",
     "output_type": "stream",
     "text": [
      "3\n"
     ]
    }
   ],
   "source": [
    "pi=3.14\n",
    "a=int(pi)\n",
    "print(a)"
   ]
  },
  {
   "cell_type": "markdown",
   "metadata": {
    "id": "Ldc4hou8E1Zc"
   },
   "source": [
    "<table align=\"left\">\n",
    "    <tr>\n",
    "        <td width=\"6%\">\n",
    "            <img src=\"question_icon.png\">\n",
    "        </td>\n",
    "        <td>\n",
    "            <div align=\"left\", style=\"font-size:120%\">\n",
    "                <font color=\"#21618C\">\n",
    "                    <b>2. Find the remainder after dividing 542 by 16</b>\n",
    "                </font>\n",
    "            </div>\n",
    "        </td>\n",
    "    </tr>\n",
    "</table>"
   ]
  },
  {
   "cell_type": "code",
   "execution_count": 3,
   "metadata": {
    "id": "ExaNH730E1Zc"
   },
   "outputs": [
    {
     "name": "stdout",
     "output_type": "stream",
     "text": [
      "14\n"
     ]
    }
   ],
   "source": [
    "rem=542%16\n",
    "print(rem)"
   ]
  },
  {
   "cell_type": "markdown",
   "metadata": {
    "id": "6DBoEM2gE1Zd"
   },
   "source": [
    "<table align=\"left\">\n",
    "    <tr>\n",
    "        <td width=\"6%\">\n",
    "            <img src=\"question_icon.png\">\n",
    "        </td>\n",
    "        <td>\n",
    "            <div align=\"left\", style=\"font-size:120%\">\n",
    "                <font color=\"#21618C\">\n",
    "                    <b>3.  Display the following pattern using single print() </b>\n",
    "                </font>\n",
    "            </div>\n",
    "        </td>\n",
    "    </tr>\n",
    "</table>"
   ]
  },
  {
   "cell_type": "markdown",
   "metadata": {
    "id": "lRFyIspYE1Zd"
   },
   "source": [
    "                                *\n",
    "                                **\n",
    "                                ***\n",
    "                                ****"
   ]
  },
  {
   "cell_type": "code",
   "execution_count": 6,
   "metadata": {
    "id": "7PXNuP8tE1Ze"
   },
   "outputs": [
    {
     "name": "stdout",
     "output_type": "stream",
     "text": [
      "\n",
      "         *\n",
      "         **\n",
      "         ***\n",
      "         ****\n"
     ]
    }
   ],
   "source": [
    "print('''\n",
    "         *\n",
    "         **\n",
    "         ***\n",
    "         ****''')"
   ]
  },
  {
   "cell_type": "markdown",
   "metadata": {
    "id": "XkO-ngAmE1Ze"
   },
   "source": [
    "<table align=\"left\">\n",
    "    <tr>\n",
    "        <td width=\"6%\">\n",
    "            <img src=\"question_icon.png\">\n",
    "        </td>\n",
    "        <td>\n",
    "            <div align=\"left\", style=\"font-size:120%\">\n",
    "                <font color=\"#21618C\">\n",
    "                    <b>4. Write a pseudo code to check whether an entered letter is a vowel or not </b>\n",
    "                </font>\n",
    "            </div>\n",
    "        </td>\n",
    "    </tr>\n",
    "</table>"
   ]
  },
  {
   "cell_type": "code",
   "execution_count": null,
   "metadata": {
    "id": "ZHCtYPysE1Zf"
   },
   "outputs": [],
   "source": [
    "1.Start\n",
    "2.input a letter  from user and store in l\n",
    "3. check if l is in a,e,i,o,u\n",
    "4.then print l is vowel\n",
    "5. else print l is not vowel"
   ]
  },
  {
   "cell_type": "markdown",
   "metadata": {
    "id": "6QDgnMwwE1Zf"
   },
   "source": [
    "<table align=\"left\">\n",
    "    <tr>\n",
    "        <td width=\"6%\">\n",
    "            <img src=\"question_icon.png\">\n",
    "        </td>\n",
    "        <td>\n",
    "            <div align=\"left\", style=\"font-size:120%\">\n",
    "                <font color=\"#21618C\">\n",
    "                    <b>5. Write a program to swap the two integers passed as runtime variables</b>\n",
    "                </font>\n",
    "            </div>\n",
    "        </td>\n",
    "    </tr>\n",
    "</table>\n"
   ]
  },
  {
   "cell_type": "code",
   "execution_count": 10,
   "metadata": {
    "id": "ODAGnmaeE1Zf"
   },
   "outputs": [
    {
     "name": "stdout",
     "output_type": "stream",
     "text": [
      "enter first no.5\n",
      "enter second no.6\n",
      "value of x after swapping 6\n",
      "value of y after swapping 5\n"
     ]
    }
   ],
   "source": [
    "x=input(\"enter first no.\")\n",
    "y=input(\"enter second no.\")\n",
    "temp=x\n",
    "x=y\n",
    "y=temp\n",
    "print(\"value of x after swapping\",x)\n",
    "print(\"value of y after swapping\",y)"
   ]
  },
  {
   "cell_type": "markdown",
   "metadata": {
    "id": "FEQEQ-YJE1Zf"
   },
   "source": [
    "<table align=\"left\">\n",
    "    <tr>\n",
    "        <td width=\"6%\">\n",
    "            <img src=\"question_icon.png\">\n",
    "        </td>\n",
    "        <td>\n",
    "            <div align=\"left\", style=\"font-size:120%\">\n",
    "                <font color=\"#21618C\">\n",
    "                    <b>6. Write a program to print the product of two numbers 'x' and 'y' </b>\n",
    "                    <br><br>\n",
    "                    <b> x = 10 ; y = \"15\"  </b>\n",
    "                </font>\n",
    "            </div>\n",
    "        </td>\n",
    "    </tr>\n",
    "</table>"
   ]
  },
  {
   "cell_type": "code",
   "execution_count": 9,
   "metadata": {
    "id": "vdVCjxy5E1Zg"
   },
   "outputs": [
    {
     "name": "stdout",
     "output_type": "stream",
     "text": [
      "product is  150\n"
     ]
    }
   ],
   "source": [
    "x=10\n",
    "y=\"15\"\n",
    "print(\"product is \",x*int(y))"
   ]
  },
  {
   "cell_type": "markdown",
   "metadata": {
    "id": "iKo6Yk-BE1Zg"
   },
   "source": [
    "<table align=\"left\">\n",
    "    <tr>\n",
    "        <td width=\"6%\">\n",
    "            <img src=\"question_icon.png\">\n",
    "        </td>\n",
    "        <td>\n",
    "            <div align=\"left\", style=\"font-size:120%\">\n",
    "                <font color=\"#21618C\">\n",
    "                    <b> 7. Write a pseudo code to check whether input is even number or odd number (take input from user)</b>\n",
    "                </font>\n",
    "            </div>\n",
    "        </td>\n",
    "    </tr>\n",
    "</table>"
   ]
  },
  {
   "cell_type": "code",
   "execution_count": null,
   "metadata": {
    "id": "5b17jSV5E1Zg"
   },
   "outputs": [],
   "source": [
    "1.start\n",
    "2.take input from user and store in n\n",
    "3. if n%2==0\n",
    "4. then print number is even\n",
    "5. else print number is odd\n",
    "6.end"
   ]
  },
  {
   "cell_type": "markdown",
   "metadata": {
    "id": "QXRuBaQHE1Zh"
   },
   "source": [
    "<table align=\"left\">\n",
    "    <tr>\n",
    "        <td width=\"6%\">\n",
    "            <img src=\"question_icon.png\">\n",
    "        </td>\n",
    "        <td>\n",
    "            <div align=\"left\", style=\"font-size:120%\">\n",
    "                <font color=\"#21618C\">\n",
    "                    <b>8. Write a pseudo code to print whether a number is divisible by 9 and a multiple of 6 (take input from the user)</b>\n",
    "                </font>\n",
    "            </div>\n",
    "        </td>\n",
    "    </tr>\n",
    "</table>"
   ]
  },
  {
   "cell_type": "code",
   "execution_count": null,
   "metadata": {
    "id": "Jy8ebQI8E1Zh"
   },
   "outputs": [],
   "source": [
    "1.start\n",
    "2.input number  from user and store in n\n",
    "3.check if n%9==0 and n%6==0\n",
    "4. then print yes number is divisible by 9 and is multiple of 6\n",
    "5. else not divisible\n",
    "6.end"
   ]
  },
  {
   "cell_type": "markdown",
   "metadata": {
    "id": "giz6ztDsE1Zh"
   },
   "source": [
    "<table align=\"left\">\n",
    "    <tr>\n",
    "        <td width=\"6%\">\n",
    "            <img src=\"question_icon.png\">\n",
    "        </td>\n",
    "        <td>\n",
    "            <div align=\"left\", style=\"font-size:120%\">\n",
    "                <font color=\"#21618C\">\n",
    "                    <b>9. Write a pseudo to take 5 values from user and print their average using while loop (take input from user)</b>\n",
    "                </font>\n",
    "            </div>\n",
    "        </td>\n",
    "    </tr>\n",
    "</table>"
   ]
  },
  {
   "cell_type": "code",
   "execution_count": 1,
   "metadata": {
    "id": "ipcX1TPdE1Zh"
   },
   "outputs": [
    {
     "ename": "SyntaxError",
     "evalue": "invalid syntax (2774226328.py, line 1)",
     "output_type": "error",
     "traceback": [
      "\u001b[1;36m  Input \u001b[1;32mIn [1]\u001b[1;36m\u001b[0m\n\u001b[1;33m    1.start\u001b[0m\n\u001b[1;37m      ^\u001b[0m\n\u001b[1;31mSyntaxError\u001b[0m\u001b[1;31m:\u001b[0m invalid syntax\n"
     ]
    }
   ],
   "source": [
    "1.start\n",
    "2.sum=0\n",
    "3.input 5 value from users and store in n that is n=5\n",
    "4 i=1\n",
    "5.while loop  i<=5:(repeat 6 and 7)\n",
    "6 sum+=i\n",
    "7.i+=1\n",
    "8.print(sum)\n",
    "9.avg=sum/5\n",
    "10. print avg\n",
    "11.end"
   ]
  },
  {
   "cell_type": "code",
   "execution_count": null,
   "metadata": {},
   "outputs": [],
   "source": []
  }
 ],
 "metadata": {
  "colab": {
   "collapsed_sections": [],
   "name": "ITP - Take Home (Day 1) - Questions  (1).ipynb",
   "provenance": []
  },
  "kernelspec": {
   "display_name": "Python 3 (ipykernel)",
   "language": "python",
   "name": "python3"
  },
  "language_info": {
   "codemirror_mode": {
    "name": "ipython",
    "version": 3
   },
   "file_extension": ".py",
   "mimetype": "text/x-python",
   "name": "python",
   "nbconvert_exporter": "python",
   "pygments_lexer": "ipython3",
   "version": "3.9.12"
  }
 },
 "nbformat": 4,
 "nbformat_minor": 1
}
